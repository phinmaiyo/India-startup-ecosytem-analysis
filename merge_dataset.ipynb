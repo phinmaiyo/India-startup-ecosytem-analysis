{
 "cells": [
  {
   "cell_type": "code",
   "execution_count": 1,
   "metadata": {},
   "outputs": [],
   "source": [
    "import pandas as pd"
   ]
  },
  {
   "cell_type": "code",
   "execution_count": 2,
   "metadata": {},
   "outputs": [],
   "source": [
    "data_18 = pd.read_csv(\"data_claning_2018.csv\")\n",
    "data_19 = pd.read_csv(\"startup_funding2019(Clean_Data).csv\")\n",
    "data_20 = pd.read_csv(\"data_2020.csv\")\n",
    "data_21 = pd.read_csv(\"IndiaClean_2021_data.csv\")"
   ]
  },
  {
   "cell_type": "code",
   "execution_count": 3,
   "metadata": {},
   "outputs": [
    {
     "data": {
      "text/plain": [
       "Company/Brand    0\n",
       "Stage            0\n",
       "Amount($)        0\n",
       "Location         0\n",
       "What_it_does     0\n",
       "Sector           0\n",
       "dtype: int64"
      ]
     },
     "execution_count": 3,
     "metadata": {},
     "output_type": "execute_result"
    }
   ],
   "source": [
    "data_18.isnull().sum()"
   ]
  },
  {
   "cell_type": "code",
   "execution_count": 4,
   "metadata": {},
   "outputs": [
    {
     "data": {
      "text/html": [
       "<div>\n",
       "<style scoped>\n",
       "    .dataframe tbody tr th:only-of-type {\n",
       "        vertical-align: middle;\n",
       "    }\n",
       "\n",
       "    .dataframe tbody tr th {\n",
       "        vertical-align: top;\n",
       "    }\n",
       "\n",
       "    .dataframe thead th {\n",
       "        text-align: right;\n",
       "    }\n",
       "</style>\n",
       "<table border=\"1\" class=\"dataframe\">\n",
       "  <thead>\n",
       "    <tr style=\"text-align: right;\">\n",
       "      <th></th>\n",
       "      <th>Company/Brand</th>\n",
       "      <th>Stage</th>\n",
       "      <th>Amount($)</th>\n",
       "      <th>Location</th>\n",
       "      <th>What_it_does</th>\n",
       "      <th>Sector</th>\n",
       "    </tr>\n",
       "  </thead>\n",
       "  <tbody>\n",
       "    <tr>\n",
       "      <th>0</th>\n",
       "      <td>TheCollegeFever</td>\n",
       "      <td>Seed</td>\n",
       "      <td>250000.0</td>\n",
       "      <td>Bangalore</td>\n",
       "      <td>TheCollegeFever is a hub for fun, fiesta and f...</td>\n",
       "      <td>Media &amp; Entertainment</td>\n",
       "    </tr>\n",
       "    <tr>\n",
       "      <th>1</th>\n",
       "      <td>Happy Cow Dairy</td>\n",
       "      <td>Seed</td>\n",
       "      <td>1000000.0</td>\n",
       "      <td>Mumbai</td>\n",
       "      <td>A startup which aggregates milk from dairy far...</td>\n",
       "      <td>Agriculture</td>\n",
       "    </tr>\n",
       "  </tbody>\n",
       "</table>\n",
       "</div>"
      ],
      "text/plain": [
       "     Company/Brand Stage  Amount($)   Location  \\\n",
       "0  TheCollegeFever  Seed   250000.0  Bangalore   \n",
       "1  Happy Cow Dairy  Seed  1000000.0     Mumbai   \n",
       "\n",
       "                                        What_it_does                 Sector  \n",
       "0  TheCollegeFever is a hub for fun, fiesta and f...  Media & Entertainment  \n",
       "1  A startup which aggregates milk from dairy far...            Agriculture  "
      ]
     },
     "execution_count": 4,
     "metadata": {},
     "output_type": "execute_result"
    }
   ],
   "source": [
    "data_18 = pd.read_csv(\"data_claning_2018.csv\")\n",
    "data_18.head(2)"
   ]
  },
  {
   "cell_type": "code",
   "execution_count": 5,
   "metadata": {},
   "outputs": [
    {
     "name": "stdout",
     "output_type": "stream",
     "text": [
      "<class 'pandas.core.frame.DataFrame'>\n",
      "RangeIndex: 524 entries, 0 to 523\n",
      "Data columns (total 6 columns):\n",
      " #   Column         Non-Null Count  Dtype  \n",
      "---  ------         --------------  -----  \n",
      " 0   Company/Brand  524 non-null    object \n",
      " 1   Stage          524 non-null    object \n",
      " 2   Amount($)      524 non-null    float64\n",
      " 3   HeadQuarter    524 non-null    object \n",
      " 4   What_it_does   524 non-null    object \n",
      " 5   Sector         524 non-null    object \n",
      "dtypes: float64(1), object(5)\n",
      "memory usage: 24.7+ KB\n"
     ]
    }
   ],
   "source": [
    "data_18.rename(columns={'Location':'HeadQuarter'},inplace=True)\n",
    "data_18.info()"
   ]
  },
  {
   "cell_type": "code",
   "execution_count": null,
   "metadata": {},
   "outputs": [],
   "source": []
  },
  {
   "cell_type": "code",
   "execution_count": 6,
   "metadata": {},
   "outputs": [
    {
     "data": {
      "text/plain": [
       "Unnamed: 0       0\n",
       "Company/Brand    0\n",
       "Founded          0\n",
       "HeadQuarter      0\n",
       "Sector           0\n",
       "What_it_does     0\n",
       "Founders         0\n",
       "Investor         0\n",
       "Amount($)        0\n",
       "Stage            0\n",
       "dtype: int64"
      ]
     },
     "execution_count": 6,
     "metadata": {},
     "output_type": "execute_result"
    }
   ],
   "source": [
    "data_19.isnull().sum()"
   ]
  },
  {
   "cell_type": "code",
   "execution_count": 7,
   "metadata": {},
   "outputs": [],
   "source": [
    "data_19 = data_19.drop('Unnamed: 0',axis = 1)"
   ]
  },
  {
   "cell_type": "code",
   "execution_count": 8,
   "metadata": {},
   "outputs": [
    {
     "data": {
      "text/plain": [
       "Company/Brand    0\n",
       "Founded          0\n",
       "HeadQuarter      0\n",
       "Sector           0\n",
       "What_it_does     0\n",
       "Founders         0\n",
       "Investor         0\n",
       "Amount($)        0\n",
       "Stage            0\n",
       "dtype: int64"
      ]
     },
     "execution_count": 8,
     "metadata": {},
     "output_type": "execute_result"
    }
   ],
   "source": [
    "data_19.isnull().sum()"
   ]
  },
  {
   "cell_type": "code",
   "execution_count": 9,
   "metadata": {},
   "outputs": [
    {
     "data": {
      "text/plain": [
       "Company/Brand    0\n",
       "Founded          0\n",
       "HeadQuarter      0\n",
       "Sector           0\n",
       "What_it_does     0\n",
       "Founders         0\n",
       "Investor         0\n",
       "Amount($)        0\n",
       "Stage            0\n",
       "dtype: int64"
      ]
     },
     "execution_count": 9,
     "metadata": {},
     "output_type": "execute_result"
    }
   ],
   "source": [
    "data_20.isnull().sum()"
   ]
  },
  {
   "cell_type": "code",
   "execution_count": 10,
   "metadata": {},
   "outputs": [
    {
     "data": {
      "text/plain": [
       "Company/Brand    0\n",
       "Founded          0\n",
       "HeadQuarter      0\n",
       "Sector           0\n",
       "What_it_does     0\n",
       "Founders         0\n",
       "Investor         0\n",
       "Amount($)        0\n",
       "Stage            0\n",
       "dtype: int64"
      ]
     },
     "execution_count": 10,
     "metadata": {},
     "output_type": "execute_result"
    }
   ],
   "source": [
    "data_21.isnull().sum()"
   ]
  },
  {
   "cell_type": "code",
   "execution_count": 11,
   "metadata": {},
   "outputs": [
    {
     "name": "stdout",
     "output_type": "stream",
     "text": [
      "<class 'pandas.core.frame.DataFrame'>\n",
      "RangeIndex: 524 entries, 0 to 523\n",
      "Data columns (total 6 columns):\n",
      " #   Column         Non-Null Count  Dtype  \n",
      "---  ------         --------------  -----  \n",
      " 0   Company/Brand  524 non-null    object \n",
      " 1   Stage          524 non-null    object \n",
      " 2   Amount($)      524 non-null    float64\n",
      " 3   HeadQuarter    524 non-null    object \n",
      " 4   What_it_does   524 non-null    object \n",
      " 5   Sector         524 non-null    object \n",
      "dtypes: float64(1), object(5)\n",
      "memory usage: 24.7+ KB\n"
     ]
    }
   ],
   "source": [
    "data_18.info()"
   ]
  },
  {
   "cell_type": "code",
   "execution_count": 12,
   "metadata": {},
   "outputs": [
    {
     "name": "stdout",
     "output_type": "stream",
     "text": [
      "<class 'pandas.core.frame.DataFrame'>\n",
      "RangeIndex: 89 entries, 0 to 88\n",
      "Data columns (total 9 columns):\n",
      " #   Column         Non-Null Count  Dtype  \n",
      "---  ------         --------------  -----  \n",
      " 0   Company/Brand  89 non-null     object \n",
      " 1   Founded        89 non-null     float64\n",
      " 2   HeadQuarter    89 non-null     object \n",
      " 3   Sector         89 non-null     object \n",
      " 4   What_it_does   89 non-null     object \n",
      " 5   Founders       89 non-null     object \n",
      " 6   Investor       89 non-null     object \n",
      " 7   Amount($)      89 non-null     float64\n",
      " 8   Stage          89 non-null     object \n",
      "dtypes: float64(2), object(7)\n",
      "memory usage: 6.4+ KB\n"
     ]
    }
   ],
   "source": [
    "data_19.info()"
   ]
  },
  {
   "cell_type": "code",
   "execution_count": 13,
   "metadata": {},
   "outputs": [
    {
     "name": "stdout",
     "output_type": "stream",
     "text": [
      "<class 'pandas.core.frame.DataFrame'>\n",
      "RangeIndex: 1055 entries, 0 to 1054\n",
      "Data columns (total 9 columns):\n",
      " #   Column         Non-Null Count  Dtype  \n",
      "---  ------         --------------  -----  \n",
      " 0   Company/Brand  1055 non-null   object \n",
      " 1   Founded        1055 non-null   int64  \n",
      " 2   HeadQuarter    1055 non-null   object \n",
      " 3   Sector         1055 non-null   object \n",
      " 4   What_it_does   1055 non-null   object \n",
      " 5   Founders       1055 non-null   object \n",
      " 6   Investor       1055 non-null   object \n",
      " 7   Amount($)      1055 non-null   float64\n",
      " 8   Stage          1055 non-null   object \n",
      "dtypes: float64(1), int64(1), object(7)\n",
      "memory usage: 74.3+ KB\n"
     ]
    }
   ],
   "source": [
    "data_20.info()"
   ]
  },
  {
   "cell_type": "code",
   "execution_count": 14,
   "metadata": {},
   "outputs": [
    {
     "name": "stdout",
     "output_type": "stream",
     "text": [
      "<class 'pandas.core.frame.DataFrame'>\n",
      "RangeIndex: 1055 entries, 0 to 1054\n",
      "Data columns (total 9 columns):\n",
      " #   Column         Non-Null Count  Dtype  \n",
      "---  ------         --------------  -----  \n",
      " 0   Company/Brand  1055 non-null   object \n",
      " 1   Founded        1055 non-null   int64  \n",
      " 2   HeadQuarter    1055 non-null   object \n",
      " 3   Sector         1055 non-null   object \n",
      " 4   What_it_does   1055 non-null   object \n",
      " 5   Founders       1055 non-null   object \n",
      " 6   Investor       1055 non-null   object \n",
      " 7   Amount($)      1055 non-null   float64\n",
      " 8   Stage          1055 non-null   object \n",
      "dtypes: float64(1), int64(1), object(7)\n",
      "memory usage: 74.3+ KB\n"
     ]
    }
   ],
   "source": [
    "data_20.info()"
   ]
  },
  {
   "cell_type": "code",
   "execution_count": 15,
   "metadata": {},
   "outputs": [
    {
     "name": "stdout",
     "output_type": "stream",
     "text": [
      "<class 'pandas.core.frame.DataFrame'>\n",
      "RangeIndex: 1180 entries, 0 to 1179\n",
      "Data columns (total 9 columns):\n",
      " #   Column         Non-Null Count  Dtype  \n",
      "---  ------         --------------  -----  \n",
      " 0   Company/Brand  1180 non-null   object \n",
      " 1   Founded        1180 non-null   int64  \n",
      " 2   HeadQuarter    1180 non-null   object \n",
      " 3   Sector         1180 non-null   object \n",
      " 4   What_it_does   1180 non-null   object \n",
      " 5   Founders       1180 non-null   object \n",
      " 6   Investor       1180 non-null   object \n",
      " 7   Amount($)      1180 non-null   float64\n",
      " 8   Stage          1180 non-null   object \n",
      "dtypes: float64(1), int64(1), object(7)\n",
      "memory usage: 83.1+ KB\n"
     ]
    }
   ],
   "source": [
    "data_21.info()"
   ]
  },
  {
   "cell_type": "code",
   "execution_count": 16,
   "metadata": {},
   "outputs": [],
   "source": [
    "# You can concatenate this with other DataFrames to get one data set for your work\n",
    "\n",
    "df = pd.concat([data_18, data_19, data_20, data_21])\n",
    "#df.to_csv('combined_data.csv')"
   ]
  },
  {
   "cell_type": "code",
   "execution_count": 17,
   "metadata": {},
   "outputs": [],
   "source": [
    "df.to_csv('new_combined_data.csv')\n"
   ]
  },
  {
   "cell_type": "code",
   "execution_count": 18,
   "metadata": {},
   "outputs": [
    {
     "name": "stdout",
     "output_type": "stream",
     "text": [
      "<class 'pandas.core.frame.DataFrame'>\n",
      "Index: 2848 entries, 0 to 1179\n",
      "Data columns (total 9 columns):\n",
      " #   Column         Non-Null Count  Dtype  \n",
      "---  ------         --------------  -----  \n",
      " 0   Company/Brand  2848 non-null   object \n",
      " 1   Stage          2848 non-null   object \n",
      " 2   Amount($)      2848 non-null   float64\n",
      " 3   HeadQuarter    2848 non-null   object \n",
      " 4   What_it_does   2848 non-null   object \n",
      " 5   Sector         2848 non-null   object \n",
      " 6   Founded        2324 non-null   float64\n",
      " 7   Founders       2324 non-null   object \n",
      " 8   Investor       2324 non-null   object \n",
      "dtypes: float64(2), object(7)\n",
      "memory usage: 222.5+ KB\n"
     ]
    }
   ],
   "source": [
    "df.info()"
   ]
  },
  {
   "cell_type": "code",
   "execution_count": 19,
   "metadata": {},
   "outputs": [],
   "source": [
    "df['Founded'].fillna('unknown',inplace=True)\n",
    "df['Founders'].fillna('unknown',inplace=True)\n",
    "df['Investor'].fillna('unknown',inplace=True)\n",
    "\n"
   ]
  },
  {
   "cell_type": "code",
   "execution_count": 20,
   "metadata": {},
   "outputs": [
    {
     "data": {
      "text/html": [
       "<div>\n",
       "<style scoped>\n",
       "    .dataframe tbody tr th:only-of-type {\n",
       "        vertical-align: middle;\n",
       "    }\n",
       "\n",
       "    .dataframe tbody tr th {\n",
       "        vertical-align: top;\n",
       "    }\n",
       "\n",
       "    .dataframe thead th {\n",
       "        text-align: right;\n",
       "    }\n",
       "</style>\n",
       "<table border=\"1\" class=\"dataframe\">\n",
       "  <thead>\n",
       "    <tr style=\"text-align: right;\">\n",
       "      <th></th>\n",
       "      <th>Company/Brand</th>\n",
       "      <th>Stage</th>\n",
       "      <th>Amount($)</th>\n",
       "      <th>HeadQuarter</th>\n",
       "      <th>What_it_does</th>\n",
       "      <th>Sector</th>\n",
       "      <th>Founded</th>\n",
       "      <th>Founders</th>\n",
       "      <th>Investor</th>\n",
       "    </tr>\n",
       "  </thead>\n",
       "  <tbody>\n",
       "    <tr>\n",
       "      <th>0</th>\n",
       "      <td>TheCollegeFever</td>\n",
       "      <td>Seed</td>\n",
       "      <td>250000.0</td>\n",
       "      <td>Bangalore</td>\n",
       "      <td>TheCollegeFever is a hub for fun, fiesta and f...</td>\n",
       "      <td>Media &amp; Entertainment</td>\n",
       "      <td>unknown</td>\n",
       "      <td>unknown</td>\n",
       "      <td>unknown</td>\n",
       "    </tr>\n",
       "    <tr>\n",
       "      <th>1</th>\n",
       "      <td>Happy Cow Dairy</td>\n",
       "      <td>Seed</td>\n",
       "      <td>1000000.0</td>\n",
       "      <td>Mumbai</td>\n",
       "      <td>A startup which aggregates milk from dairy far...</td>\n",
       "      <td>Agriculture</td>\n",
       "      <td>unknown</td>\n",
       "      <td>unknown</td>\n",
       "      <td>unknown</td>\n",
       "    </tr>\n",
       "    <tr>\n",
       "      <th>2</th>\n",
       "      <td>MyLoanCare</td>\n",
       "      <td>Series A</td>\n",
       "      <td>1000000.0</td>\n",
       "      <td>Gurgaon</td>\n",
       "      <td>Leading Online Loans Marketplace in India</td>\n",
       "      <td>Finance</td>\n",
       "      <td>unknown</td>\n",
       "      <td>unknown</td>\n",
       "      <td>unknown</td>\n",
       "    </tr>\n",
       "    <tr>\n",
       "      <th>3</th>\n",
       "      <td>PayMe India</td>\n",
       "      <td>Angel</td>\n",
       "      <td>2000000.0</td>\n",
       "      <td>Noida</td>\n",
       "      <td>PayMe India is an innovative FinTech organizat...</td>\n",
       "      <td>Finance</td>\n",
       "      <td>unknown</td>\n",
       "      <td>unknown</td>\n",
       "      <td>unknown</td>\n",
       "    </tr>\n",
       "    <tr>\n",
       "      <th>4</th>\n",
       "      <td>Eunimart</td>\n",
       "      <td>Seed</td>\n",
       "      <td>1000000.0</td>\n",
       "      <td>Hyderabad</td>\n",
       "      <td>Eunimart is a one stop solution for merchants ...</td>\n",
       "      <td>E-commerce</td>\n",
       "      <td>unknown</td>\n",
       "      <td>unknown</td>\n",
       "      <td>unknown</td>\n",
       "    </tr>\n",
       "  </tbody>\n",
       "</table>\n",
       "</div>"
      ],
      "text/plain": [
       "     Company/Brand     Stage  Amount($) HeadQuarter  \\\n",
       "0  TheCollegeFever      Seed   250000.0   Bangalore   \n",
       "1  Happy Cow Dairy      Seed  1000000.0      Mumbai   \n",
       "2       MyLoanCare  Series A  1000000.0     Gurgaon   \n",
       "3      PayMe India     Angel  2000000.0       Noida   \n",
       "4         Eunimart      Seed  1000000.0   Hyderabad   \n",
       "\n",
       "                                        What_it_does                 Sector  \\\n",
       "0  TheCollegeFever is a hub for fun, fiesta and f...  Media & Entertainment   \n",
       "1  A startup which aggregates milk from dairy far...            Agriculture   \n",
       "2          Leading Online Loans Marketplace in India                Finance   \n",
       "3  PayMe India is an innovative FinTech organizat...                Finance   \n",
       "4  Eunimart is a one stop solution for merchants ...             E-commerce   \n",
       "\n",
       "   Founded Founders Investor  \n",
       "0  unknown  unknown  unknown  \n",
       "1  unknown  unknown  unknown  \n",
       "2  unknown  unknown  unknown  \n",
       "3  unknown  unknown  unknown  \n",
       "4  unknown  unknown  unknown  "
      ]
     },
     "execution_count": 20,
     "metadata": {},
     "output_type": "execute_result"
    }
   ],
   "source": [
    "df.head(5)"
   ]
  },
  {
   "cell_type": "code",
   "execution_count": 21,
   "metadata": {},
   "outputs": [
    {
     "name": "stdout",
     "output_type": "stream",
     "text": [
      "<class 'pandas.core.frame.DataFrame'>\n",
      "Index: 2848 entries, 0 to 1179\n",
      "Data columns (total 9 columns):\n",
      " #   Column         Non-Null Count  Dtype  \n",
      "---  ------         --------------  -----  \n",
      " 0   Company/Brand  2848 non-null   object \n",
      " 1   Stage          2848 non-null   object \n",
      " 2   Amount($)      2848 non-null   float64\n",
      " 3   HeadQuarter    2848 non-null   object \n",
      " 4   What_it_does   2848 non-null   object \n",
      " 5   Sector         2848 non-null   object \n",
      " 6   Founded        2848 non-null   object \n",
      " 7   Founders       2848 non-null   object \n",
      " 8   Investor       2848 non-null   object \n",
      "dtypes: float64(1), object(8)\n",
      "memory usage: 222.5+ KB\n"
     ]
    }
   ],
   "source": [
    "df.info()"
   ]
  },
  {
   "cell_type": "code",
   "execution_count": 22,
   "metadata": {},
   "outputs": [
    {
     "data": {
      "text/plain": [
       "(2848, 9)"
      ]
     },
     "execution_count": 22,
     "metadata": {},
     "output_type": "execute_result"
    }
   ],
   "source": [
    "df.shape"
   ]
  },
  {
   "cell_type": "code",
   "execution_count": 23,
   "metadata": {},
   "outputs": [
    {
     "data": {
      "text/html": [
       "<div>\n",
       "<style scoped>\n",
       "    .dataframe tbody tr th:only-of-type {\n",
       "        vertical-align: middle;\n",
       "    }\n",
       "\n",
       "    .dataframe tbody tr th {\n",
       "        vertical-align: top;\n",
       "    }\n",
       "\n",
       "    .dataframe thead th {\n",
       "        text-align: right;\n",
       "    }\n",
       "</style>\n",
       "<table border=\"1\" class=\"dataframe\">\n",
       "  <thead>\n",
       "    <tr style=\"text-align: right;\">\n",
       "      <th></th>\n",
       "      <th>Company/Brand</th>\n",
       "      <th>Stage</th>\n",
       "      <th>Amount($)</th>\n",
       "      <th>HeadQuarter</th>\n",
       "      <th>What_it_does</th>\n",
       "      <th>Sector</th>\n",
       "      <th>Founded</th>\n",
       "      <th>Founders</th>\n",
       "      <th>Investor</th>\n",
       "    </tr>\n",
       "  </thead>\n",
       "  <tbody>\n",
       "    <tr>\n",
       "      <th>count</th>\n",
       "      <td>2848</td>\n",
       "      <td>2848</td>\n",
       "      <td>2.848000e+03</td>\n",
       "      <td>2848</td>\n",
       "      <td>2848</td>\n",
       "      <td>2848</td>\n",
       "      <td>2848</td>\n",
       "      <td>2848</td>\n",
       "      <td>2848</td>\n",
       "    </tr>\n",
       "    <tr>\n",
       "      <th>unique</th>\n",
       "      <td>2213</td>\n",
       "      <td>15</td>\n",
       "      <td>NaN</td>\n",
       "      <td>124</td>\n",
       "      <td>2688</td>\n",
       "      <td>25</td>\n",
       "      <td>35</td>\n",
       "      <td>1982</td>\n",
       "      <td>1778</td>\n",
       "    </tr>\n",
       "    <tr>\n",
       "      <th>top</th>\n",
       "      <td>BharatPe</td>\n",
       "      <td>Seed</td>\n",
       "      <td>NaN</td>\n",
       "      <td>Bangalore</td>\n",
       "      <td>Provides online learning classes</td>\n",
       "      <td>Technology</td>\n",
       "      <td>unknown</td>\n",
       "      <td>unknown</td>\n",
       "      <td>unknown</td>\n",
       "    </tr>\n",
       "    <tr>\n",
       "      <th>freq</th>\n",
       "      <td>10</td>\n",
       "      <td>689</td>\n",
       "      <td>NaN</td>\n",
       "      <td>978</td>\n",
       "      <td>5</td>\n",
       "      <td>554</td>\n",
       "      <td>524</td>\n",
       "      <td>536</td>\n",
       "      <td>562</td>\n",
       "    </tr>\n",
       "    <tr>\n",
       "      <th>mean</th>\n",
       "      <td>NaN</td>\n",
       "      <td>NaN</td>\n",
       "      <td>9.837547e+07</td>\n",
       "      <td>NaN</td>\n",
       "      <td>NaN</td>\n",
       "      <td>NaN</td>\n",
       "      <td>NaN</td>\n",
       "      <td>NaN</td>\n",
       "      <td>NaN</td>\n",
       "    </tr>\n",
       "    <tr>\n",
       "      <th>std</th>\n",
       "      <td>NaN</td>\n",
       "      <td>NaN</td>\n",
       "      <td>3.102321e+09</td>\n",
       "      <td>NaN</td>\n",
       "      <td>NaN</td>\n",
       "      <td>NaN</td>\n",
       "      <td>NaN</td>\n",
       "      <td>NaN</td>\n",
       "      <td>NaN</td>\n",
       "    </tr>\n",
       "    <tr>\n",
       "      <th>min</th>\n",
       "      <td>NaN</td>\n",
       "      <td>NaN</td>\n",
       "      <td>7.500000e+03</td>\n",
       "      <td>NaN</td>\n",
       "      <td>NaN</td>\n",
       "      <td>NaN</td>\n",
       "      <td>NaN</td>\n",
       "      <td>NaN</td>\n",
       "      <td>NaN</td>\n",
       "    </tr>\n",
       "    <tr>\n",
       "      <th>25%</th>\n",
       "      <td>NaN</td>\n",
       "      <td>NaN</td>\n",
       "      <td>1.000000e+06</td>\n",
       "      <td>NaN</td>\n",
       "      <td>NaN</td>\n",
       "      <td>NaN</td>\n",
       "      <td>NaN</td>\n",
       "      <td>NaN</td>\n",
       "      <td>NaN</td>\n",
       "    </tr>\n",
       "    <tr>\n",
       "      <th>50%</th>\n",
       "      <td>NaN</td>\n",
       "      <td>NaN</td>\n",
       "      <td>3.000000e+06</td>\n",
       "      <td>NaN</td>\n",
       "      <td>NaN</td>\n",
       "      <td>NaN</td>\n",
       "      <td>NaN</td>\n",
       "      <td>NaN</td>\n",
       "      <td>NaN</td>\n",
       "    </tr>\n",
       "    <tr>\n",
       "      <th>75%</th>\n",
       "      <td>NaN</td>\n",
       "      <td>NaN</td>\n",
       "      <td>7.225000e+06</td>\n",
       "      <td>NaN</td>\n",
       "      <td>NaN</td>\n",
       "      <td>NaN</td>\n",
       "      <td>NaN</td>\n",
       "      <td>NaN</td>\n",
       "      <td>NaN</td>\n",
       "    </tr>\n",
       "    <tr>\n",
       "      <th>max</th>\n",
       "      <td>NaN</td>\n",
       "      <td>NaN</td>\n",
       "      <td>1.500000e+11</td>\n",
       "      <td>NaN</td>\n",
       "      <td>NaN</td>\n",
       "      <td>NaN</td>\n",
       "      <td>NaN</td>\n",
       "      <td>NaN</td>\n",
       "      <td>NaN</td>\n",
       "    </tr>\n",
       "  </tbody>\n",
       "</table>\n",
       "</div>"
      ],
      "text/plain": [
       "       Company/Brand Stage     Amount($) HeadQuarter  \\\n",
       "count           2848  2848  2.848000e+03        2848   \n",
       "unique          2213    15           NaN         124   \n",
       "top         BharatPe  Seed           NaN   Bangalore   \n",
       "freq              10   689           NaN         978   \n",
       "mean             NaN   NaN  9.837547e+07         NaN   \n",
       "std              NaN   NaN  3.102321e+09         NaN   \n",
       "min              NaN   NaN  7.500000e+03         NaN   \n",
       "25%              NaN   NaN  1.000000e+06         NaN   \n",
       "50%              NaN   NaN  3.000000e+06         NaN   \n",
       "75%              NaN   NaN  7.225000e+06         NaN   \n",
       "max              NaN   NaN  1.500000e+11         NaN   \n",
       "\n",
       "                            What_it_does      Sector  Founded Founders  \\\n",
       "count                               2848        2848     2848     2848   \n",
       "unique                              2688          25       35     1982   \n",
       "top     Provides online learning classes  Technology  unknown  unknown   \n",
       "freq                                   5         554      524      536   \n",
       "mean                                 NaN         NaN      NaN      NaN   \n",
       "std                                  NaN         NaN      NaN      NaN   \n",
       "min                                  NaN         NaN      NaN      NaN   \n",
       "25%                                  NaN         NaN      NaN      NaN   \n",
       "50%                                  NaN         NaN      NaN      NaN   \n",
       "75%                                  NaN         NaN      NaN      NaN   \n",
       "max                                  NaN         NaN      NaN      NaN   \n",
       "\n",
       "       Investor  \n",
       "count      2848  \n",
       "unique     1778  \n",
       "top     unknown  \n",
       "freq        562  \n",
       "mean        NaN  \n",
       "std         NaN  \n",
       "min         NaN  \n",
       "25%         NaN  \n",
       "50%         NaN  \n",
       "75%         NaN  \n",
       "max         NaN  "
      ]
     },
     "execution_count": 23,
     "metadata": {},
     "output_type": "execute_result"
    }
   ],
   "source": [
    "df.describe( include= 'all')"
   ]
  },
  {
   "cell_type": "code",
   "execution_count": 24,
   "metadata": {},
   "outputs": [
    {
     "data": {
      "text/plain": [
       "Company/Brand    0\n",
       "Stage            0\n",
       "Amount($)        0\n",
       "HeadQuarter      0\n",
       "What_it_does     0\n",
       "Sector           0\n",
       "Founded          0\n",
       "Founders         0\n",
       "Investor         0\n",
       "dtype: int64"
      ]
     },
     "execution_count": 24,
     "metadata": {},
     "output_type": "execute_result"
    }
   ],
   "source": [
    "df.isnull().sum()"
   ]
  },
  {
   "cell_type": "code",
   "execution_count": 25,
   "metadata": {},
   "outputs": [
    {
     "data": {
      "text/plain": [
       "3"
      ]
     },
     "execution_count": 25,
     "metadata": {},
     "output_type": "execute_result"
    }
   ],
   "source": [
    "df.duplicated().sum()"
   ]
  },
  {
   "cell_type": "code",
   "execution_count": 26,
   "metadata": {},
   "outputs": [
    {
     "data": {
      "text/html": [
       "<div>\n",
       "<style scoped>\n",
       "    .dataframe tbody tr th:only-of-type {\n",
       "        vertical-align: middle;\n",
       "    }\n",
       "\n",
       "    .dataframe tbody tr th {\n",
       "        vertical-align: top;\n",
       "    }\n",
       "\n",
       "    .dataframe thead th {\n",
       "        text-align: right;\n",
       "    }\n",
       "</style>\n",
       "<table border=\"1\" class=\"dataframe\">\n",
       "  <thead>\n",
       "    <tr style=\"text-align: right;\">\n",
       "      <th></th>\n",
       "      <th>Company/Brand</th>\n",
       "      <th>Stage</th>\n",
       "      <th>Amount($)</th>\n",
       "      <th>HeadQuarter</th>\n",
       "      <th>What_it_does</th>\n",
       "      <th>Sector</th>\n",
       "      <th>Founded</th>\n",
       "      <th>Founders</th>\n",
       "      <th>Investor</th>\n",
       "    </tr>\n",
       "  </thead>\n",
       "  <tbody>\n",
       "    <tr>\n",
       "      <th>145</th>\n",
       "      <td>Krimanshi</td>\n",
       "      <td>Seed</td>\n",
       "      <td>600000.0</td>\n",
       "      <td>Jodhpur</td>\n",
       "      <td>Krimanshi aims to increase rural income by imp...</td>\n",
       "      <td>Technology</td>\n",
       "      <td>2015.0</td>\n",
       "      <td>Nikhil Bohra</td>\n",
       "      <td>Rajasthan Venture Capital Fund, AIM Smart City</td>\n",
       "    </tr>\n",
       "    <tr>\n",
       "      <th>205</th>\n",
       "      <td>Nykaa</td>\n",
       "      <td>Unknown Stage</td>\n",
       "      <td>3000000.0</td>\n",
       "      <td>Mumbai</td>\n",
       "      <td>Nykaa is an online marketplace for different b...</td>\n",
       "      <td>Manufacturing</td>\n",
       "      <td>2012.0</td>\n",
       "      <td>Falguni Nayar</td>\n",
       "      <td>Alia Bhatt, Katrina Kaif</td>\n",
       "    </tr>\n",
       "    <tr>\n",
       "      <th>362</th>\n",
       "      <td>Byju’s</td>\n",
       "      <td>Unknown Stage</td>\n",
       "      <td>500000000.0</td>\n",
       "      <td>Bangalore</td>\n",
       "      <td>An Indian educational technology and online tu...</td>\n",
       "      <td>Education</td>\n",
       "      <td>2011.0</td>\n",
       "      <td>Byju Raveendran</td>\n",
       "      <td>Owl Ventures, Tiger Global Management</td>\n",
       "    </tr>\n",
       "  </tbody>\n",
       "</table>\n",
       "</div>"
      ],
      "text/plain": [
       "    Company/Brand          Stage    Amount($) HeadQuarter  \\\n",
       "145     Krimanshi           Seed     600000.0     Jodhpur   \n",
       "205         Nykaa  Unknown Stage    3000000.0      Mumbai   \n",
       "362        Byju’s  Unknown Stage  500000000.0   Bangalore   \n",
       "\n",
       "                                          What_it_does         Sector Founded  \\\n",
       "145  Krimanshi aims to increase rural income by imp...     Technology  2015.0   \n",
       "205  Nykaa is an online marketplace for different b...  Manufacturing  2012.0   \n",
       "362  An Indian educational technology and online tu...      Education  2011.0   \n",
       "\n",
       "            Founders                                        Investor  \n",
       "145     Nikhil Bohra  Rajasthan Venture Capital Fund, AIM Smart City  \n",
       "205    Falguni Nayar                        Alia Bhatt, Katrina Kaif  \n",
       "362  Byju Raveendran           Owl Ventures, Tiger Global Management  "
      ]
     },
     "execution_count": 26,
     "metadata": {},
     "output_type": "execute_result"
    }
   ],
   "source": [
    "df.loc[df.duplicated()]"
   ]
  },
  {
   "cell_type": "code",
   "execution_count": 27,
   "metadata": {},
   "outputs": [
    {
     "data": {
      "text/html": [
       "<div>\n",
       "<style scoped>\n",
       "    .dataframe tbody tr th:only-of-type {\n",
       "        vertical-align: middle;\n",
       "    }\n",
       "\n",
       "    .dataframe tbody tr th {\n",
       "        vertical-align: top;\n",
       "    }\n",
       "\n",
       "    .dataframe thead th {\n",
       "        text-align: right;\n",
       "    }\n",
       "</style>\n",
       "<table border=\"1\" class=\"dataframe\">\n",
       "  <thead>\n",
       "    <tr style=\"text-align: right;\">\n",
       "      <th></th>\n",
       "      <th>Company/Brand</th>\n",
       "      <th>Stage</th>\n",
       "      <th>Amount($)</th>\n",
       "      <th>HeadQuarter</th>\n",
       "      <th>What_it_does</th>\n",
       "      <th>Sector</th>\n",
       "      <th>Founded</th>\n",
       "      <th>Founders</th>\n",
       "      <th>Investor</th>\n",
       "    </tr>\n",
       "  </thead>\n",
       "  <tbody>\n",
       "    <tr>\n",
       "      <th>129</th>\n",
       "      <td>Krimanshi</td>\n",
       "      <td>Seed</td>\n",
       "      <td>600000.0</td>\n",
       "      <td>Jodhpur</td>\n",
       "      <td>Krimanshi aims to increase rural income by imp...</td>\n",
       "      <td>Technology</td>\n",
       "      <td>2015.0</td>\n",
       "      <td>Nikhil Bohra</td>\n",
       "      <td>Rajasthan Venture Capital Fund, AIM Smart City</td>\n",
       "    </tr>\n",
       "    <tr>\n",
       "      <th>145</th>\n",
       "      <td>Krimanshi</td>\n",
       "      <td>Seed</td>\n",
       "      <td>600000.0</td>\n",
       "      <td>Jodhpur</td>\n",
       "      <td>Krimanshi aims to increase rural income by imp...</td>\n",
       "      <td>Technology</td>\n",
       "      <td>2015.0</td>\n",
       "      <td>Nikhil Bohra</td>\n",
       "      <td>Rajasthan Venture Capital Fund, AIM Smart City</td>\n",
       "    </tr>\n",
       "    <tr>\n",
       "      <th>941</th>\n",
       "      <td>Krimanshi</td>\n",
       "      <td>Unknown Stage</td>\n",
       "      <td>20000.0</td>\n",
       "      <td>Jodhpur</td>\n",
       "      <td>Sustainable system to feed animals by valorizi...</td>\n",
       "      <td>Agriculture</td>\n",
       "      <td>2016.0</td>\n",
       "      <td>Nikhil Bohra</td>\n",
       "      <td>Arunachal Pradesh Social Entrepreneurship Meet</td>\n",
       "    </tr>\n",
       "  </tbody>\n",
       "</table>\n",
       "</div>"
      ],
      "text/plain": [
       "    Company/Brand          Stage  Amount($) HeadQuarter  \\\n",
       "129     Krimanshi           Seed   600000.0     Jodhpur   \n",
       "145     Krimanshi           Seed   600000.0     Jodhpur   \n",
       "941     Krimanshi  Unknown Stage    20000.0     Jodhpur   \n",
       "\n",
       "                                          What_it_does       Sector Founded  \\\n",
       "129  Krimanshi aims to increase rural income by imp...   Technology  2015.0   \n",
       "145  Krimanshi aims to increase rural income by imp...   Technology  2015.0   \n",
       "941  Sustainable system to feed animals by valorizi...  Agriculture  2016.0   \n",
       "\n",
       "         Founders                                        Investor  \n",
       "129  Nikhil Bohra  Rajasthan Venture Capital Fund, AIM Smart City  \n",
       "145  Nikhil Bohra  Rajasthan Venture Capital Fund, AIM Smart City  \n",
       "941  Nikhil Bohra  Arunachal Pradesh Social Entrepreneurship Meet  "
      ]
     },
     "execution_count": 27,
     "metadata": {},
     "output_type": "execute_result"
    }
   ],
   "source": [
    "df.query('`Company/Brand`==\"Krimanshi\"')"
   ]
  },
  {
   "cell_type": "code",
   "execution_count": 28,
   "metadata": {},
   "outputs": [
    {
     "data": {
      "text/html": [
       "<div>\n",
       "<style scoped>\n",
       "    .dataframe tbody tr th:only-of-type {\n",
       "        vertical-align: middle;\n",
       "    }\n",
       "\n",
       "    .dataframe tbody tr th {\n",
       "        vertical-align: top;\n",
       "    }\n",
       "\n",
       "    .dataframe thead th {\n",
       "        text-align: right;\n",
       "    }\n",
       "</style>\n",
       "<table border=\"1\" class=\"dataframe\">\n",
       "  <thead>\n",
       "    <tr style=\"text-align: right;\">\n",
       "      <th></th>\n",
       "      <th>Company/Brand</th>\n",
       "      <th>Stage</th>\n",
       "      <th>Amount($)</th>\n",
       "      <th>HeadQuarter</th>\n",
       "      <th>What_it_does</th>\n",
       "      <th>Sector</th>\n",
       "      <th>Founded</th>\n",
       "      <th>Founders</th>\n",
       "      <th>Investor</th>\n",
       "    </tr>\n",
       "  </thead>\n",
       "  <tbody>\n",
       "    <tr>\n",
       "      <th>511</th>\n",
       "      <td>Nykaa</td>\n",
       "      <td>Equity</td>\n",
       "      <td>1000000.0</td>\n",
       "      <td>Mumbai</td>\n",
       "      <td>Nykaa.com is a premier online beauty and welln...</td>\n",
       "      <td>Lifestyle</td>\n",
       "      <td>unknown</td>\n",
       "      <td>unknown</td>\n",
       "      <td>unknown</td>\n",
       "    </tr>\n",
       "    <tr>\n",
       "      <th>120</th>\n",
       "      <td>Nykaa</td>\n",
       "      <td>Unknown Stage</td>\n",
       "      <td>3000000.0</td>\n",
       "      <td>Mumbai</td>\n",
       "      <td>Nykaa is an online marketplace for different b...</td>\n",
       "      <td>Manufacturing</td>\n",
       "      <td>2012.0</td>\n",
       "      <td>Falguni Nayar</td>\n",
       "      <td>Alia Bhatt, Katrina Kaif</td>\n",
       "    </tr>\n",
       "    <tr>\n",
       "      <th>205</th>\n",
       "      <td>Nykaa</td>\n",
       "      <td>Unknown Stage</td>\n",
       "      <td>3000000.0</td>\n",
       "      <td>Mumbai</td>\n",
       "      <td>Nykaa is an online marketplace for different b...</td>\n",
       "      <td>Manufacturing</td>\n",
       "      <td>2012.0</td>\n",
       "      <td>Falguni Nayar</td>\n",
       "      <td>Alia Bhatt, Katrina Kaif</td>\n",
       "    </tr>\n",
       "    <tr>\n",
       "      <th>213</th>\n",
       "      <td>Nykaa</td>\n",
       "      <td>Unknown Stage</td>\n",
       "      <td>3000000.0</td>\n",
       "      <td>Mumbai</td>\n",
       "      <td>Nykaa is an online marketplace for different b...</td>\n",
       "      <td>E-commerce</td>\n",
       "      <td>2012.0</td>\n",
       "      <td>Falguni Nayar</td>\n",
       "      <td>Katrina Kaif, Steadview Capital</td>\n",
       "    </tr>\n",
       "    <tr>\n",
       "      <th>340</th>\n",
       "      <td>Nykaa</td>\n",
       "      <td>Unknown Stage</td>\n",
       "      <td>24700000.0</td>\n",
       "      <td>Mumbai</td>\n",
       "      <td>Cosmetics &amp; beauty products online</td>\n",
       "      <td>Lifestyle</td>\n",
       "      <td>2012.0</td>\n",
       "      <td>Falguni Nayar</td>\n",
       "      <td>Steadview Capital</td>\n",
       "    </tr>\n",
       "    <tr>\n",
       "      <th>712</th>\n",
       "      <td>Nykaa</td>\n",
       "      <td>Unknown Stage</td>\n",
       "      <td>8800000.0</td>\n",
       "      <td>Mumbai</td>\n",
       "      <td>Deals in cosmetic and wellness products</td>\n",
       "      <td>E-commerce</td>\n",
       "      <td>2012.0</td>\n",
       "      <td>Falguni Nayar</td>\n",
       "      <td>Steadview capital</td>\n",
       "    </tr>\n",
       "    <tr>\n",
       "      <th>813</th>\n",
       "      <td>Nykaa</td>\n",
       "      <td>Unknown Stage</td>\n",
       "      <td>13137000.0</td>\n",
       "      <td>Mumbai</td>\n",
       "      <td>Deals in cosmetic and wellness products</td>\n",
       "      <td>E-commerce</td>\n",
       "      <td>2012.0</td>\n",
       "      <td>Falguni Nayar</td>\n",
       "      <td>Steadview capital</td>\n",
       "    </tr>\n",
       "  </tbody>\n",
       "</table>\n",
       "</div>"
      ],
      "text/plain": [
       "    Company/Brand          Stage   Amount($) HeadQuarter  \\\n",
       "511         Nykaa         Equity   1000000.0      Mumbai   \n",
       "120         Nykaa  Unknown Stage   3000000.0      Mumbai   \n",
       "205         Nykaa  Unknown Stage   3000000.0      Mumbai   \n",
       "213         Nykaa  Unknown Stage   3000000.0      Mumbai   \n",
       "340         Nykaa  Unknown Stage  24700000.0      Mumbai   \n",
       "712         Nykaa  Unknown Stage   8800000.0      Mumbai   \n",
       "813         Nykaa  Unknown Stage  13137000.0      Mumbai   \n",
       "\n",
       "                                          What_it_does         Sector  \\\n",
       "511  Nykaa.com is a premier online beauty and welln...      Lifestyle   \n",
       "120  Nykaa is an online marketplace for different b...  Manufacturing   \n",
       "205  Nykaa is an online marketplace for different b...  Manufacturing   \n",
       "213  Nykaa is an online marketplace for different b...     E-commerce   \n",
       "340                 Cosmetics & beauty products online      Lifestyle   \n",
       "712            Deals in cosmetic and wellness products     E-commerce   \n",
       "813            Deals in cosmetic and wellness products     E-commerce   \n",
       "\n",
       "     Founded       Founders                         Investor  \n",
       "511  unknown        unknown                          unknown  \n",
       "120   2012.0  Falguni Nayar         Alia Bhatt, Katrina Kaif  \n",
       "205   2012.0  Falguni Nayar         Alia Bhatt, Katrina Kaif  \n",
       "213   2012.0  Falguni Nayar  Katrina Kaif, Steadview Capital  \n",
       "340   2012.0  Falguni Nayar                Steadview Capital  \n",
       "712   2012.0  Falguni Nayar                Steadview capital  \n",
       "813   2012.0  Falguni Nayar                Steadview capital  "
      ]
     },
     "execution_count": 28,
     "metadata": {},
     "output_type": "execute_result"
    }
   ],
   "source": [
    "df.query('`Company/Brand`==\"Nykaa\"')"
   ]
  },
  {
   "cell_type": "code",
   "execution_count": 29,
   "metadata": {},
   "outputs": [],
   "source": [
    "df=df.loc[~df.duplicated(subset=['Sector','Company/Brand','Stage','Amount($)','HeadQuarter','What_it_does','Founded','Founders','Investor'])].reset_index(drop=True).copy()"
   ]
  },
  {
   "cell_type": "code",
   "execution_count": 30,
   "metadata": {},
   "outputs": [],
   "source": [
    "#df = df.drop_duplicates(subset=['Sector', 'Stage'])"
   ]
  },
  {
   "cell_type": "code",
   "execution_count": 31,
   "metadata": {},
   "outputs": [
    {
     "data": {
      "text/plain": [
       "0"
      ]
     },
     "execution_count": 31,
     "metadata": {},
     "output_type": "execute_result"
    }
   ],
   "source": [
    "df.duplicated().sum()"
   ]
  },
  {
   "cell_type": "code",
   "execution_count": 32,
   "metadata": {},
   "outputs": [
    {
     "name": "stdout",
     "output_type": "stream",
     "text": [
      "<class 'pandas.core.frame.DataFrame'>\n",
      "RangeIndex: 2845 entries, 0 to 2844\n",
      "Data columns (total 9 columns):\n",
      " #   Column         Non-Null Count  Dtype  \n",
      "---  ------         --------------  -----  \n",
      " 0   Company/Brand  2845 non-null   object \n",
      " 1   Stage          2845 non-null   object \n",
      " 2   Amount($)      2845 non-null   float64\n",
      " 3   HeadQuarter    2845 non-null   object \n",
      " 4   What_it_does   2845 non-null   object \n",
      " 5   Sector         2845 non-null   object \n",
      " 6   Founded        2845 non-null   object \n",
      " 7   Founders       2845 non-null   object \n",
      " 8   Investor       2845 non-null   object \n",
      "dtypes: float64(1), object(8)\n",
      "memory usage: 200.2+ KB\n"
     ]
    }
   ],
   "source": [
    "df.info()"
   ]
  }
 ],
 "metadata": {
  "kernelspec": {
   "display_name": "Python 3",
   "language": "python",
   "name": "python3"
  },
  "language_info": {
   "codemirror_mode": {
    "name": "ipython",
    "version": 3
   },
   "file_extension": ".py",
   "mimetype": "text/x-python",
   "name": "python",
   "nbconvert_exporter": "python",
   "pygments_lexer": "ipython3",
   "version": "3.11.2"
  },
  "orig_nbformat": 4
 },
 "nbformat": 4,
 "nbformat_minor": 2
}
